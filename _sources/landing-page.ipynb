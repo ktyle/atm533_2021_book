{
 "cells": [
  {
   "cell_type": "markdown",
   "id": "24611359",
   "metadata": {},
   "source": [
    "# ATM433/533\n",
    "\n",
    "## Advanced Geophysical Data Analysis & Visualization\n",
    "\n",
    "### Fall 2021"
   ]
  },
  {
   "cell_type": "markdown",
   "id": "422cec20-f029-427f-97bd-90e147e2eb0f",
   "metadata": {},
   "source": [
    "<img src=\"images/pretty-earth.png\" alt=\"Pretty Earth\" width=\"600px\">"
   ]
  },
  {
   "cell_type": "markdown",
   "id": "fa6980e8",
   "metadata": {},
   "source": [
    "Welcome to ATM433/533!"
   ]
  },
  {
   "cell_type": "code",
   "execution_count": null,
   "id": "4c986b6d",
   "metadata": {},
   "outputs": [],
   "source": []
  }
 ],
 "metadata": {
  "kernelspec": {
   "display_name": "Python 3 (ipykernel)",
   "language": "python",
   "name": "python3"
  },
  "language_info": {
   "codemirror_mode": {
    "name": "ipython",
    "version": 3
   },
   "file_extension": ".py",
   "mimetype": "text/x-python",
   "name": "python",
   "nbconvert_exporter": "python",
   "pygments_lexer": "ipython3",
   "version": "3.9.6"
  }
 },
 "nbformat": 4,
 "nbformat_minor": 5
}
